{
 "cells": [
  {
   "cell_type": "code",
   "execution_count": 1,
   "metadata": {},
   "outputs": [],
   "source": [
    "import pandas as pd\n",
    "from pandas import Series,DataFrame\n",
    "import numpy as np\n",
    "import seaborn as sns\n",
    "import matplotlib.pyplot as plt\n",
    "from matplotlib.pyplot import figure\n",
    "\n",
    "from sklearn.model_selection import train_test_split\n",
    "from sklearn.tree import DecisionTreeClassifier\n",
    "from sklearn import tree\n",
    "from sklearn import preprocessing\n",
    "\n",
    "df1 = pd.read_csv('附件1企业信息.csv')\n",
    "df2 = pd.read_csv('附件1进项发票.csv')\n",
    "df3 = pd.read_csv('附件1销项发票.csv')\n"
   ]
  },
  {
   "cell_type": "code",
   "execution_count": 2,
   "metadata": {},
   "outputs": [
    {
     "name": "stdout",
     "output_type": "stream",
     "text": [
      "企业代号    False\n",
      "企业名称    False\n",
      "信誉评级    False\n",
      "是否违约    False\n",
      "dtype: bool\n",
      "企业代号      False\n",
      "发票号码      False\n",
      "开票日期      False\n",
      "销方单位代号    False\n",
      "金额        False\n",
      "税额        False\n",
      "价税合计      False\n",
      "发票状态      False\n",
      "dtype: bool\n",
      "企业代号      False\n",
      "发票号码      False\n",
      "开票日期      False\n",
      "购方单位代号    False\n",
      "金额        False\n",
      "税额        False\n",
      "价税合计      False\n",
      "发票状态      False\n",
      "dtype: bool\n"
     ]
    }
   ],
   "source": [
    "print(df1.isnull().any())\n",
    "print(df2.isnull().any())\n",
    "print(df3.isnull().any())\n"
   ]
  },
  {
   "cell_type": "code",
   "execution_count": 3,
   "metadata": {},
   "outputs": [
    {
     "name": "stdout",
     "output_type": "stream",
     "text": [
      "企业代号    object\n",
      "企业名称    object\n",
      "信誉评级    object\n",
      "是否违约    object\n",
      "dtype: object\n",
      "企业代号       object\n",
      "发票号码        int64\n",
      "开票日期       object\n",
      "销方单位代号     object\n",
      "金额        float64\n",
      "税额        float64\n",
      "价税合计      float64\n",
      "发票状态       object\n",
      "dtype: object\n",
      "企业代号       object\n",
      "发票号码        int64\n",
      "开票日期       object\n",
      "购方单位代号     object\n",
      "金额        float64\n",
      "税额        float64\n",
      "价税合计      float64\n",
      "发票状态       object\n",
      "dtype: object\n"
     ]
    }
   ],
   "source": [
    "print(df1.dtypes)\n",
    "print(df2.dtypes)\n",
    "print(df3.dtypes)\n"
   ]
  },
  {
   "cell_type": "code",
   "execution_count": 4,
   "metadata": {},
   "outputs": [
    {
     "name": "stdout",
     "output_type": "stream",
     "text": [
      "27\n",
      "65\n",
      "99\n",
      "123\n",
      "0 1 2 24\n"
     ]
    }
   ],
   "source": [
    "temp=df1.信誉评级.str.contains('A')\n",
    "As=[]\n",
    "for i in temp:\n",
    "    if i==True:\n",
    "        As.append(i)\n",
    "print(len(As))\n",
    "temp=df1.信誉评级.str.contains('B')\n",
    "for i in temp:\n",
    "    if i==True:\n",
    "        As.append(i)\n",
    "print(len(As))\n",
    "temp=df1.信誉评级.str.contains('C')\n",
    "for i in temp:\n",
    "    if i==True:\n",
    "        As.append(i)\n",
    "print(len(As))\n",
    "temp=df1.信誉评级.str.contains('D')\n",
    "for i in temp:\n",
    "    if i==True:\n",
    "        As.append(i)\n",
    "print(len(As))\n",
    "X=df1[['信誉评级','是否违约']].values\n",
    "#print(X)\n",
    "vioA=0\n",
    "vioB=0\n",
    "vioC=0\n",
    "vioD=0\n",
    "for i in range(123):\n",
    "    if ((X[i][0]=='A') and (X[i][1]=='是')):\n",
    "         vioA=vioA+1\n",
    "    elif ((X[i][0]=='B') and (X[i][1]=='是')):\n",
    "         vioB=vioB+1\n",
    "    elif ((X[i][0]=='C') and (X[i][1]=='是')):\n",
    "         vioC=vioC+1\n",
    "    elif ((X[i][0]=='D') and (X[i][1]=='是')):\n",
    "         vioD=vioD+1\n",
    "print(vioA,vioB,vioC,vioD)\n"
   ]
  },
  {
   "cell_type": "code",
   "execution_count": 5,
   "metadata": {},
   "outputs": [
    {
     "name": "stdout",
     "output_type": "stream",
     "text": [
      "203339 151278\n"
     ]
    }
   ],
   "source": [
    "invalid2 = df2.发票状态.str.contains('废')\n",
    "invalid3 = df3.发票状态.str.contains('废')\n",
    "df2 = df2.loc[~invalid2]\n",
    "df3 = df3.loc[~invalid3]\n",
    "print(len(df2),len(df3))\n"
   ]
  },
  {
   "cell_type": "code",
   "execution_count": 6,
   "metadata": {},
   "outputs": [],
   "source": [
    "group_by_企业代号2 = df2.loc[:, ['企业代号','发票号码','开票日期','销方单位代号','金额','税额','价税合计','发票状态']].groupby('企业代号')\n",
    "sum=group_by_企业代号2.sum()\n",
    "Deno2=sum.金额\n",
    "Tax2=sum.税额\n",
    "价税合计2=sum.价税合计\n",
    "pd.set_option('display.max_rows',None)\n"
   ]
  },
  {
   "cell_type": "code",
   "execution_count": 7,
   "metadata": {},
   "outputs": [],
   "source": [
    "temp=df2.企业代号\n",
    "进项数=np.zeros(124)\n",
    "j=1\n",
    "for temp in temp:\n",
    "    if temp=='E'+(str(j)):\n",
    "        进项数[j]=进项数[j]+1\n",
    "    else:\n",
    "        j=j+1\n",
    "        进项数[j]=进项数[j]+1\n",
    "r1=DataFrame(进项数)\n",
    "r1.to_excel('附件一各公司进项数.xlsx')\n"
   ]
  },
  {
   "cell_type": "code",
   "execution_count": 8,
   "metadata": {},
   "outputs": [],
   "source": [
    "s1=DataFrame(Deno2)\n",
    "s2=DataFrame(Tax2)\n",
    "s3=DataFrame(价税合计2)\n",
    "s1.to_excel('附件一进项总金额.xlsx')\n",
    "s2.to_excel('附件一进项总税额.xlsx')\n",
    "s3.to_excel('附件一进项价税合计.xlsx')\n"
   ]
  },
  {
   "cell_type": "code",
   "execution_count": 9,
   "metadata": {},
   "outputs": [
    {
     "data": {
      "image/png": "[encoded data removed]",
      "text/plain": [
       "<Figure size 432x288 with 1 Axes>"
      ]
     },
     "metadata": {
      "needs_background": "light"
     },
     "output_type": "display_data"
    }
   ],
   "source": [
    "s=DataFrame(sum.金额)\n",
    "bin_sizes, _, _ = plt.hist(s, bins=range(1, 123))"
   ]
  },
  {
   "cell_type": "code",
   "execution_count": 10,
   "metadata": {},
   "outputs": [],
   "source": [
    "group_by_企业代号3 = df3.loc[:, ['企业代号','发票号码','开票日期','购方单位代号','金额','税额','价税合计','发票状态']].groupby('企业代号')\n",
    "sum=group_by_企业代号3.sum()\n",
    "Deno3=sum.金额\n",
    "Tax3=sum.税额\n",
    "价税合计3=sum.价税合计\n"
   ]
  },
  {
   "cell_type": "code",
   "execution_count": 11,
   "metadata": {},
   "outputs": [],
   "source": [
    "temp=df3.企业代号\n",
    "销项数=np.zeros(124)\n",
    "j=1\n",
    "for temp in temp:\n",
    "    if temp=='E'+(str(j)):\n",
    "        销项数[j]=销项数[j]+1\n",
    "    else:\n",
    "        j=j+1\n",
    "        销项数[j]=销项数[j]+1\n",
    "r2=DataFrame(销项数)\n",
    "r2.to_excel('附件一各公司销项数.xlsx')\n"
   ]
  },
  {
   "cell_type": "code",
   "execution_count": 12,
   "metadata": {},
   "outputs": [],
   "source": [
    "s1=DataFrame(Deno3)\n",
    "s2=DataFrame(Tax3)\n",
    "s3=DataFrame(价税合计3)\n",
    "s1.to_excel('附件一销项总金额.xlsx')\n",
    "s2.to_excel('附件一销项总税额.xlsx')\n",
    "s3.to_excel('附件一销项价税合计.xlsx')\n"
   ]
  },
  {
   "cell_type": "code",
   "execution_count": null,
   "metadata": {},
   "outputs": [],
   "source": []
  },
  {
   "cell_type": "code",
   "execution_count": null,
   "metadata": {},
   "outputs": [],
   "source": []
  }
 ],
 "metadata": {
  "kernelspec": {
   "display_name": "Python 3 (ipykernel)",
   "language": "python",
   "name": "python3"
  },
  "language_info": {
   "codemirror_mode": {
    "name": "ipython",
    "version": 3
   },
   "file_extension": ".py",
   "mimetype": "text/x-python",
   "name": "python",
   "nbconvert_exporter": "python",
   "pygments_lexer": "ipython3",
   "version": "3.8.10"
  }
 },
 "nbformat": 4,
 "nbformat_minor": 4
}
