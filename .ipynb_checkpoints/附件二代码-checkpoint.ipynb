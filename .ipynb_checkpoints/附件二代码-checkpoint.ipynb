{
 "cells": [
  {
   "cell_type": "code",
   "execution_count": 1,
   "metadata": {},
   "outputs": [],
   "source": [
    "import pandas as pd\n",
    "from pandas import Series,DataFrame\n",
    "import numpy as np\n",
    "import seaborn as sns\n",
    "import matplotlib.pyplot as plt\n",
    "from matplotlib.pyplot import figure\n",
    "\n",
    "from sklearn.model_selection import train_test_split\n",
    "from sklearn.tree import DecisionTreeClassifier\n",
    "from sklearn import tree\n",
    "from sklearn import preprocessing\n",
    "\n",
    "df1 = pd.read_csv('附件2企业信息.csv')\n",
    "df2 = pd.read_csv('附件2进项发票.csv')\n",
    "df3 = pd.read_csv('附件2销项发票.csv')\n"
   ]
  },
  {
   "cell_type": "code",
   "execution_count": 2,
   "metadata": {},
   "outputs": [
    {
     "name": "stdout",
     "output_type": "stream",
     "text": [
      "377939 303280\n"
     ]
    }
   ],
   "source": [
    "invalid2 = df2.发票状态.str.contains('废')\n",
    "invalid3 = df3.发票状态.str.contains('废')\n",
    "df2 = df2.loc[~invalid2]\n",
    "df3 = df3.loc[~invalid3]\n",
    "print(len(df2),len(df3))\n"
   ]
  },
  {
   "cell_type": "code",
   "execution_count": 3,
   "metadata": {},
   "outputs": [],
   "source": [
    "group_by_企业代号2 = df2.loc[:, ['企业代号','发票号码','开票日期','销方单位代号','金额','税额','价税合计','发票状态']].groupby('企业代号')\n",
    "sum=group_by_企业代号2.sum()\n",
    "Deno2=sum.金额\n",
    "Tax2=sum.税额\n",
    "价税总计2=sum.价税合计\n",
    "pd.set_option('display.max_rows',None)\n"
   ]
  },
  {
   "cell_type": "code",
   "execution_count": 4,
   "metadata": {},
   "outputs": [],
   "source": [
    "temp=df2.企业代号\n",
    "进项数=np.zeros(426)\n",
    "j=124\n",
    "for temp in temp:\n",
    "    if temp=='E'+(str(j)):\n",
    "        进项数[j]=进项数[j]+1\n",
    "    else:\n",
    "        j=j+1\n",
    "        进项数[j]=进项数[j]+1\n",
    "r1=DataFrame(进项数)\n",
    "r1.to_excel('附件二各公司进项数.xlsx')\n"
   ]
  },
  {
   "cell_type": "code",
   "execution_count": 5,
   "metadata": {},
   "outputs": [],
   "source": [
    "s1=DataFrame(Deno2)\n",
    "s2=DataFrame(Tax2)\n",
    "s3=DataFrame(价税总计2)\n",
    "s1.to_excel('附件二进项总金额.xlsx')\n",
    "s2.to_excel('附件二进项总税额.xlsx')\n",
    "s3.to_excel('附件二进项价税总计.xlsx')\n"
   ]
  },
  {
   "cell_type": "code",
   "execution_count": 6,
   "metadata": {},
   "outputs": [],
   "source": [
    "group_by_企业代号3 = df3.loc[:, ['企业代号','发票号码','开票日期','购方单位代号','金额','税额','价税合计','发票状态']].groupby('企业代号')\n",
    "sum=group_by_企业代号3.sum()\n",
    "Deno3=sum.金额\n",
    "Tax3=sum.税额\n",
    "价税总计3=sum.价税合计\n"
   ]
  },
  {
   "cell_type": "code",
   "execution_count": 7,
   "metadata": {},
   "outputs": [],
   "source": [
    "temp=df3.企业代号\n",
    "销项数=np.zeros(426)\n",
    "j=124\n",
    "for temp in temp:\n",
    "    if temp=='E'+(str(j)):\n",
    "        销项数[j]=销项数[j]+1\n",
    "    else:\n",
    "        j=j+1\n",
    "        销项数[j]=销项数[j]+1\n",
    "r2=DataFrame(销项数)\n",
    "r2.to_excel('附件二各公司销项数.xlsx')\n"
   ]
  },
  {
   "cell_type": "code",
   "execution_count": 8,
   "metadata": {},
   "outputs": [],
   "source": [
    "s1=DataFrame(Deno3)\n",
    "s2=DataFrame(Tax3)\n",
    "s3=DataFrame(价税总计3)\n",
    "s1.to_excel('附件二销项总金额.xlsx')\n",
    "s2.to_excel('附件二销项总税额.xlsx')\n",
    "s3.to_excel('附件二销项价税总计.xlsx')\n",
    " "
   ]
  },
  {
   "cell_type": "code",
   "execution_count": null,
   "metadata": {},
   "outputs": [],
   "source": []
  }
 ],
 "metadata": {
  "kernelspec": {
   "display_name": "Python 3 (ipykernel)",
   "language": "python",
   "name": "python3"
  },
  "language_info": {
   "codemirror_mode": {
    "name": "ipython",
    "version": 3
   },
   "file_extension": ".py",
   "mimetype": "text/x-python",
   "name": "python",
   "nbconvert_exporter": "python",
   "pygments_lexer": "ipython3",
   "version": "3.8.10"
  }
 },
 "nbformat": 4,
 "nbformat_minor": 4
}
